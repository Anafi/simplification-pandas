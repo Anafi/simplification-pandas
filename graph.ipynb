{
 "cells": [
  {
   "cell_type": "code",
   "execution_count": 30,
   "metadata": {
    "collapsed": true
   },
   "outputs": [],
   "source": [
    "import geopandas as gpd\n",
    "import pandas as pd\n",
    "import numpy as np\n",
    "from shapely.geometry import Point"
   ]
  },
  {
   "cell_type": "code",
   "execution_count": 31,
   "metadata": {
    "collapsed": true
   },
   "outputs": [],
   "source": [
    "# Read shapefile\n",
    "# Set filepath \n",
    "fp = \"/Users/joe/Documents/Coding/Simplification/comp_model_cl_w_u.shp\"\n",
    "edges_df = gpd.read_file(fp,  encoding=\"utf-8\")\n",
    "# Plot shapefile\n",
    "#edges_df.plot()"
   ]
  },
  {
   "cell_type": "code",
   "execution_count": 32,
   "metadata": {
    "collapsed": true
   },
   "outputs": [],
   "source": [
    "# add start and end point coordinates to data frame \n",
    "def getstartnode(row):\n",
    "    return row.coords[0]\n",
    "\n",
    "def getendnode(row):\n",
    "    return row.coords[-1]\n",
    "\n",
    "edges_df = edges_df.assign(startcoords = map(lambda x: getstartnode(x), edges_df['geometry'].values.tolist()), \n",
    "                           endcoords = map(lambda x: getendnode(x), edges_df['geometry'].values.tolist()))"
   ]
  },
  {
   "cell_type": "code",
   "execution_count": 33,
   "metadata": {
    "collapsed": false
   },
   "outputs": [
    {
     "name": "stdout",
     "output_type": "stream",
     "text": [
      "                                id\n",
      "coords                            \n",
      "(415623.0, 439681.0)             0\n",
      "(420759.0, 445060.0)             1\n",
      "(420745.253186, 445141.572253)   2\n",
      "(440861.06732, 425396.6059)      3\n",
      "(429961.973, 439686.461)         4\n"
     ]
    }
   ],
   "source": [
    "# get all unique coordinates\n",
    "coords_pds = pd.concat([edges_df.loc[:, 'startcoords'], edges_df.loc[:, 'endcoords']])\n",
    "coords_pds = pd.unique(coords_pds)\n",
    "# TODO: df = pd.DataFrame(data, index = ['Cochice', 'Pima', 'Santa Cruz', 'Maricopa', 'Yuma'])\n",
    "nodes_df = pd.DataFrame({'coords': coords_pds, 'id': range(0, len(coords_pds))})\n",
    "nodes_df.set_index(['coords'], inplace=True)\n",
    "# del coords_pds\n",
    "print nodes_df.head()"
   ]
  },
  {
   "cell_type": "code",
   "execution_count": 34,
   "metadata": {
    "collapsed": true
   },
   "outputs": [],
   "source": [
    "edges_df = pd.merge(edges_df, nodes_df, left_on='startcoords', right_index=True, how='left', suffixes=('_raw', '_startnode'))\n",
    "edges_df = pd.merge(edges_df, nodes_df, left_on='endcoords', right_index=True, how='left')\n",
    "edges_df['sid'] = edges_df.index\n",
    "edges_df['stype'] = None\n",
    "edges_df['audit'] = None\n",
    "edges_df = edges_df.rename(columns={'id':'endnodeid', 'id_startnode':'startnodeid' })               "
   ]
  },
  {
   "cell_type": "code",
   "execution_count": 35,
   "metadata": {
    "collapsed": false
   },
   "outputs": [
    {
     "name": "stdout",
     "output_type": "stream",
     "text": [
      "(98637, 18)\n",
      "(97866, 18)\n"
     ]
    }
   ],
   "source": [
    "# exclude points\n",
    "print edges_df.shape\n",
    "edges_df = edges_df[edges_df.geometry.length != 0]\n",
    "print edges_df.shape"
   ]
  },
  {
   "cell_type": "code",
   "execution_count": 36,
   "metadata": {
    "collapsed": false
   },
   "outputs": [
    {
     "name": "stdout",
     "output_type": "stream",
     "text": [
      "(195732, 2)\n",
      "   n1     n2\n",
      "0   0  58338\n",
      "1   1  11144\n",
      "2   2      1\n",
      "3   3  42424\n",
      "4   4  37161\n"
     ]
    }
   ],
   "source": [
    "adjnodes_df = pd.DataFrame({'n1': pd.concat([edges_df['startnodeid'], edges_df['endnodeid']]), 'n2': pd.concat([edges_df['endnodeid'], edges_df['startnodeid']])})\n",
    "print adjnodes_df.shape\n",
    "print adjnodes_df.head()"
   ]
  },
  {
   "cell_type": "code",
   "execution_count": 37,
   "metadata": {
    "collapsed": false
   },
   "outputs": [
    {
     "name": "stdout",
     "output_type": "stream",
     "text": [
      "(195732, 2)\n",
      "           n    sid\n",
      "98632  63132  98632\n",
      "98633  11275  98633\n",
      "98634  41600  98634\n",
      "98635  44007  98635\n",
      "98636  20342  98636\n"
     ]
    }
   ],
   "source": [
    "adjedges_df = pd.DataFrame({'n': pd.concat([edges_df['startnodeid'], edges_df['endnodeid']]), 'sid': pd.concat([edges_df['sid'], edges_df['sid']])})\n",
    "print adjedges_df.shape\n",
    "print adjedges_df.tail()"
   ]
  },
  {
   "cell_type": "code",
   "execution_count": 38,
   "metadata": {
    "collapsed": false
   },
   "outputs": [
    {
     "name": "stdout",
     "output_type": "stream",
     "text": [
      "(75820, 1)\n",
      "                              n2\n",
      "n1                              \n",
      "0           [58338, 62077, 2526]\n",
      "1       [11144, 33849, 2, 11144]\n",
      "2               [1, 8997, 11165]\n",
      "3            [42424, 42422, 885]\n",
      "4   [37161, 52627, 52624, 72865]\n",
      "(75820, 1)\n",
      "                    sid\n",
      "n                      \n",
      "0     [0, 88173, 35412]\n",
      "1  [1, 49507, 2, 13009]\n",
      "2     [2, 10409, 13031]\n",
      "3       [3, 88206, 917]\n",
      "4    [4, 13, 18, 77969]\n"
     ]
    }
   ],
   "source": [
    "adjnodes_df = adjnodes_df.groupby('n1')['n2'].apply(list).to_frame()\n",
    "print adjnodes_df.shape\n",
    "# print nodes_df.shape\n",
    "print adjnodes_df.head()\n",
    "\n",
    "adjedges_df = adjedges_df.groupby('n')['sid'].apply(list).to_frame()\n",
    "print adjedges_df.shape\n",
    "# print nodes_df.shape\n",
    "print adjedges_df.head()\n",
    "# nodenode_df not needed from edges based on index "
   ]
  },
  {
   "cell_type": "code",
   "execution_count": 39,
   "metadata": {
    "collapsed": false
   },
   "outputs": [
    {
     "name": "stdout",
     "output_type": "stream",
     "text": [
      "                                id                   sid  \\\n",
      "coords                                                     \n",
      "(415623.0, 439681.0)             0     [0, 88173, 35412]   \n",
      "(420759.0, 445060.0)             1  [1, 49507, 2, 13009]   \n",
      "(420745.253186, 445141.572253)   2     [2, 10409, 13031]   \n",
      "(440861.06732, 425396.6059)      3       [3, 88206, 917]   \n",
      "(429961.973, 439686.461)         4    [4, 13, 18, 77969]   \n",
      "\n",
      "                                                          n2  \n",
      "coords                                                        \n",
      "(415623.0, 439681.0)                    [58338, 62077, 2526]  \n",
      "(420759.0, 445060.0)                [11144, 33849, 2, 11144]  \n",
      "(420745.253186, 445141.572253)              [1, 8997, 11165]  \n",
      "(440861.06732, 425396.6059)              [42424, 42422, 885]  \n",
      "(429961.973, 439686.461)        [37161, 52627, 52624, 72865]  \n"
     ]
    }
   ],
   "source": [
    "# update nodes_df\n",
    "nodes_df = pd.merge(nodes_df, adjedges_df, right_index = True, left_on='id', how='left', suffixes=('_raw', '_join'))\n",
    "nodes_df = pd.merge(nodes_df, adjnodes_df, left_on='id', right_index=True, how='left', suffixes=('', '_join'))\n",
    "\n",
    "print nodes_df.head()"
   ]
  },
  {
   "cell_type": "code",
   "execution_count": 40,
   "metadata": {
    "collapsed": false
   },
   "outputs": [
    {
     "name": "stdout",
     "output_type": "stream",
     "text": [
      "<class 'pandas.core.frame.DataFrame'>\n",
      "                                id                   sid  \\\n",
      "coords                                                     \n",
      "(415623.0, 439681.0)             0     [0, 88173, 35412]   \n",
      "(420759.0, 445060.0)             1  [1, 49507, 2, 13009]   \n",
      "(420745.253186, 445141.572253)   2     [2, 10409, 13031]   \n",
      "(440861.06732, 425396.6059)      3       [3, 88206, 917]   \n",
      "(429961.973, 439686.461)         4    [4, 13, 18, 77969]   \n",
      "\n",
      "                                                          n2  \n",
      "coords                                                        \n",
      "(415623.0, 439681.0)                    [58338, 62077, 2526]  \n",
      "(420759.0, 445060.0)                [11144, 33849, 2, 11144]  \n",
      "(420745.253186, 445141.572253)              [1, 8997, 11165]  \n",
      "(440861.06732, 425396.6059)              [42424, 42422, 885]  \n",
      "(429961.973, 439686.461)        [37161, 52627, 52624, 72865]  \n",
      "<class 'geopandas.geodataframe.GeoDataFrame'>\n"
     ]
    }
   ],
   "source": [
    "print type(nodes_df)\n",
    "\n",
    "# to geodataframe\n",
    "print nodes_df.head()\n",
    "nodes_df['geometry'] = map(lambda x: Point(x), nodes_df.index.values)\n",
    "nodes_df = nodes_df.reset_index(drop = True)\n",
    "nodes_gdf = gpd.GeoDataFrame(nodes_df)\n",
    "print type(nodes_gdf)\n",
    "del nodes_df"
   ]
  },
  {
   "cell_type": "code",
   "execution_count": 41,
   "metadata": {
    "collapsed": false
   },
   "outputs": [
    {
     "name": "stdout",
     "output_type": "stream",
     "text": [
      "   id                   sid                            n2  \\\n",
      "0   0     [0, 88173, 35412]          [58338, 62077, 2526]   \n",
      "1   1  [1, 49507, 2, 13009]      [11144, 33849, 2, 11144]   \n",
      "2   2     [2, 10409, 13031]              [1, 8997, 11165]   \n",
      "3   3       [3, 88206, 917]           [42424, 42422, 885]   \n",
      "4   4    [4, 13, 18, 77969]  [37161, 52627, 52624, 72865]   \n",
      "\n",
      "                                     geometry  \n",
      "0                       POINT (415623 439681)  \n",
      "1                       POINT (420759 445060)  \n",
      "2  POINT (420745.253186412 445141.5722528308)  \n",
      "3            POINT (440861.06732 425396.6059)  \n",
      "4               POINT (429961.973 439686.461)  \n"
     ]
    }
   ],
   "source": [
    "print nodes_gdf.head()\n"
   ]
  },
  {
   "cell_type": "code",
   "execution_count": 42,
   "metadata": {
    "collapsed": false
   },
   "outputs": [
    {
     "name": "stdout",
     "output_type": "stream",
     "text": [
      "0    1\n",
      "1    1\n",
      "2    1\n",
      "3    1\n",
      "4    2\n",
      "dtype: int64\n",
      "4      2\n",
      "41     2\n",
      "214    2\n",
      "288    2\n",
      "323    2\n",
      "dtype: int64\n"
     ]
    }
   ],
   "source": [
    "edges_df['n_n'] = map(lambda x: tuple(sorted(x)), edges_df[['startnodeid', 'endnodeid']].values.tolist())\n",
    "# group by n_n and length geom\n",
    "nodenode_df = edges_df.groupby('n_n')['sid'].apply(list).to_frame()\n",
    "nodenode_df = nodenode_df.reset_index()\n",
    "nodenode_df = nodenode_df.apply(lambda row: len(row.sid),axis=1)\n",
    "print nodenode_df.head()\n",
    "# TODO: return n_n - sid - count \n",
    "parallels =  nodenode_df[nodenode_df > 1]\n",
    "print parallels.head()"
   ]
  },
  {
   "cell_type": "code",
   "execution_count": 54,
   "metadata": {
    "collapsed": false
   },
   "outputs": [
    {
     "ename": "KeyError",
     "evalue": "False",
     "output_type": "error",
     "traceback": [
      "\u001b[0;31m---------------------------------------------------------------------------\u001b[0m",
      "\u001b[0;31mKeyError\u001b[0m                                  Traceback (most recent call last)",
      "\u001b[0;32m<ipython-input-54-34620f7a2876>\u001b[0m in \u001b[0;36m<module>\u001b[0;34m()\u001b[0m\n\u001b[1;32m      2\u001b[0m \u001b[0;31m#edges_df['n_n'] = map(lambda x: tuple(sorted(x)), edges_df[['n_n']].values.tolist())\u001b[0m\u001b[0;34m\u001b[0m\u001b[0;34m\u001b[0m\u001b[0m\n\u001b[1;32m      3\u001b[0m \u001b[0;31m#print edges_df.head()\u001b[0m\u001b[0;34m\u001b[0m\u001b[0;34m\u001b[0m\u001b[0m\n\u001b[0;32m----> 4\u001b[0;31m \u001b[0;32mprint\u001b[0m \u001b[0medges_df\u001b[0m\u001b[0;34m[\u001b[0m\u001b[0;34m'n_n'\u001b[0m\u001b[0;34m]\u001b[0m\u001b[0;34m.\u001b[0m\u001b[0mloc\u001b[0m\u001b[0;34m[\u001b[0m\u001b[0;32mlambda\u001b[0m \u001b[0mx\u001b[0m\u001b[0;34m:\u001b[0m \u001b[0mlen\u001b[0m\u001b[0;34m(\u001b[0m\u001b[0mset\u001b[0m\u001b[0;34m(\u001b[0m\u001b[0mx\u001b[0m\u001b[0;34m)\u001b[0m\u001b[0;34m)\u001b[0m \u001b[0;34m==\u001b[0m \u001b[0;36m1\u001b[0m\u001b[0;34m]\u001b[0m\u001b[0;34m\u001b[0m\u001b[0m\n\u001b[0m\u001b[1;32m      5\u001b[0m \u001b[0;34m\u001b[0m\u001b[0m\n\u001b[1;32m      6\u001b[0m \u001b[0;34m\u001b[0m\u001b[0m\n",
      "\u001b[0;32m/Users/joe/anaconda2/lib/python2.7/site-packages/pandas/core/indexing.pyc\u001b[0m in \u001b[0;36m__getitem__\u001b[0;34m(self, key)\u001b[0m\n\u001b[1;32m   1371\u001b[0m \u001b[0;34m\u001b[0m\u001b[0m\n\u001b[1;32m   1372\u001b[0m             \u001b[0mmaybe_callable\u001b[0m \u001b[0;34m=\u001b[0m \u001b[0mcom\u001b[0m\u001b[0;34m.\u001b[0m\u001b[0m_apply_if_callable\u001b[0m\u001b[0;34m(\u001b[0m\u001b[0mkey\u001b[0m\u001b[0;34m,\u001b[0m \u001b[0mself\u001b[0m\u001b[0;34m.\u001b[0m\u001b[0mobj\u001b[0m\u001b[0;34m)\u001b[0m\u001b[0;34m\u001b[0m\u001b[0m\n\u001b[0;32m-> 1373\u001b[0;31m             \u001b[0;32mreturn\u001b[0m \u001b[0mself\u001b[0m\u001b[0;34m.\u001b[0m\u001b[0m_getitem_axis\u001b[0m\u001b[0;34m(\u001b[0m\u001b[0mmaybe_callable\u001b[0m\u001b[0;34m,\u001b[0m \u001b[0maxis\u001b[0m\u001b[0;34m=\u001b[0m\u001b[0maxis\u001b[0m\u001b[0;34m)\u001b[0m\u001b[0;34m\u001b[0m\u001b[0m\n\u001b[0m\u001b[1;32m   1374\u001b[0m \u001b[0;34m\u001b[0m\u001b[0m\n\u001b[1;32m   1375\u001b[0m     \u001b[0;32mdef\u001b[0m \u001b[0m_is_scalar_access\u001b[0m\u001b[0;34m(\u001b[0m\u001b[0mself\u001b[0m\u001b[0;34m,\u001b[0m \u001b[0mkey\u001b[0m\u001b[0;34m)\u001b[0m\u001b[0;34m:\u001b[0m\u001b[0;34m\u001b[0m\u001b[0m\n",
      "\u001b[0;32m/Users/joe/anaconda2/lib/python2.7/site-packages/pandas/core/indexing.pyc\u001b[0m in \u001b[0;36m_getitem_axis\u001b[0;34m(self, key, axis)\u001b[0m\n\u001b[1;32m   1625\u001b[0m         \u001b[0;31m# fall thru to straight lookup\u001b[0m\u001b[0;34m\u001b[0m\u001b[0;34m\u001b[0m\u001b[0m\n\u001b[1;32m   1626\u001b[0m         \u001b[0mself\u001b[0m\u001b[0;34m.\u001b[0m\u001b[0m_has_valid_type\u001b[0m\u001b[0;34m(\u001b[0m\u001b[0mkey\u001b[0m\u001b[0;34m,\u001b[0m \u001b[0maxis\u001b[0m\u001b[0;34m)\u001b[0m\u001b[0;34m\u001b[0m\u001b[0m\n\u001b[0;32m-> 1627\u001b[0;31m         \u001b[0;32mreturn\u001b[0m \u001b[0mself\u001b[0m\u001b[0;34m.\u001b[0m\u001b[0m_get_label\u001b[0m\u001b[0;34m(\u001b[0m\u001b[0mkey\u001b[0m\u001b[0;34m,\u001b[0m \u001b[0maxis\u001b[0m\u001b[0;34m=\u001b[0m\u001b[0maxis\u001b[0m\u001b[0;34m)\u001b[0m\u001b[0;34m\u001b[0m\u001b[0m\n\u001b[0m\u001b[1;32m   1628\u001b[0m \u001b[0;34m\u001b[0m\u001b[0m\n\u001b[1;32m   1629\u001b[0m \u001b[0;34m\u001b[0m\u001b[0m\n",
      "\u001b[0;32m/Users/joe/anaconda2/lib/python2.7/site-packages/pandas/core/indexing.pyc\u001b[0m in \u001b[0;36m_get_label\u001b[0;34m(self, label, axis)\u001b[0m\n\u001b[1;32m    139\u001b[0m                 \u001b[0;32mreturn\u001b[0m \u001b[0mself\u001b[0m\u001b[0;34m.\u001b[0m\u001b[0mobj\u001b[0m\u001b[0;34m.\u001b[0m\u001b[0m_xs\u001b[0m\u001b[0;34m(\u001b[0m\u001b[0mlabel\u001b[0m\u001b[0;34m,\u001b[0m \u001b[0maxis\u001b[0m\u001b[0;34m=\u001b[0m\u001b[0maxis\u001b[0m\u001b[0;34m)\u001b[0m\u001b[0;34m\u001b[0m\u001b[0m\n\u001b[1;32m    140\u001b[0m             \u001b[0;32mexcept\u001b[0m\u001b[0;34m:\u001b[0m\u001b[0;34m\u001b[0m\u001b[0m\n\u001b[0;32m--> 141\u001b[0;31m                 \u001b[0;32mreturn\u001b[0m \u001b[0mself\u001b[0m\u001b[0;34m.\u001b[0m\u001b[0mobj\u001b[0m\u001b[0;34m[\u001b[0m\u001b[0mlabel\u001b[0m\u001b[0;34m]\u001b[0m\u001b[0;34m\u001b[0m\u001b[0m\n\u001b[0m\u001b[1;32m    142\u001b[0m         \u001b[0;32melif\u001b[0m \u001b[0misinstance\u001b[0m\u001b[0;34m(\u001b[0m\u001b[0mlabel\u001b[0m\u001b[0;34m,\u001b[0m \u001b[0mtuple\u001b[0m\u001b[0;34m)\u001b[0m \u001b[0;32mand\u001b[0m \u001b[0misinstance\u001b[0m\u001b[0;34m(\u001b[0m\u001b[0mlabel\u001b[0m\u001b[0;34m[\u001b[0m\u001b[0maxis\u001b[0m\u001b[0;34m]\u001b[0m\u001b[0;34m,\u001b[0m \u001b[0mslice\u001b[0m\u001b[0;34m)\u001b[0m\u001b[0;34m:\u001b[0m\u001b[0;34m\u001b[0m\u001b[0m\n\u001b[1;32m    143\u001b[0m             \u001b[0;32mraise\u001b[0m \u001b[0mIndexingError\u001b[0m\u001b[0;34m(\u001b[0m\u001b[0;34m'no slices here, handle elsewhere'\u001b[0m\u001b[0;34m)\u001b[0m\u001b[0;34m\u001b[0m\u001b[0m\n",
      "\u001b[0;32m/Users/joe/anaconda2/lib/python2.7/site-packages/pandas/core/series.pyc\u001b[0m in \u001b[0;36m__getitem__\u001b[0;34m(self, key)\u001b[0m\n\u001b[1;32m    621\u001b[0m         \u001b[0mkey\u001b[0m \u001b[0;34m=\u001b[0m \u001b[0mcom\u001b[0m\u001b[0;34m.\u001b[0m\u001b[0m_apply_if_callable\u001b[0m\u001b[0;34m(\u001b[0m\u001b[0mkey\u001b[0m\u001b[0;34m,\u001b[0m \u001b[0mself\u001b[0m\u001b[0;34m)\u001b[0m\u001b[0;34m\u001b[0m\u001b[0m\n\u001b[1;32m    622\u001b[0m         \u001b[0;32mtry\u001b[0m\u001b[0;34m:\u001b[0m\u001b[0;34m\u001b[0m\u001b[0m\n\u001b[0;32m--> 623\u001b[0;31m             \u001b[0mresult\u001b[0m \u001b[0;34m=\u001b[0m \u001b[0mself\u001b[0m\u001b[0;34m.\u001b[0m\u001b[0mindex\u001b[0m\u001b[0;34m.\u001b[0m\u001b[0mget_value\u001b[0m\u001b[0;34m(\u001b[0m\u001b[0mself\u001b[0m\u001b[0;34m,\u001b[0m \u001b[0mkey\u001b[0m\u001b[0;34m)\u001b[0m\u001b[0;34m\u001b[0m\u001b[0m\n\u001b[0m\u001b[1;32m    624\u001b[0m \u001b[0;34m\u001b[0m\u001b[0m\n\u001b[1;32m    625\u001b[0m             \u001b[0;32mif\u001b[0m \u001b[0;32mnot\u001b[0m \u001b[0mis_scalar\u001b[0m\u001b[0;34m(\u001b[0m\u001b[0mresult\u001b[0m\u001b[0;34m)\u001b[0m\u001b[0;34m:\u001b[0m\u001b[0;34m\u001b[0m\u001b[0m\n",
      "\u001b[0;32m/Users/joe/anaconda2/lib/python2.7/site-packages/pandas/core/indexes/base.pyc\u001b[0m in \u001b[0;36mget_value\u001b[0;34m(self, series, key)\u001b[0m\n\u001b[1;32m   2558\u001b[0m         \u001b[0;32mtry\u001b[0m\u001b[0;34m:\u001b[0m\u001b[0;34m\u001b[0m\u001b[0m\n\u001b[1;32m   2559\u001b[0m             return self._engine.get_value(s, k,\n\u001b[0;32m-> 2560\u001b[0;31m                                           tz=getattr(series.dtype, 'tz', None))\n\u001b[0m\u001b[1;32m   2561\u001b[0m         \u001b[0;32mexcept\u001b[0m \u001b[0mKeyError\u001b[0m \u001b[0;32mas\u001b[0m \u001b[0me1\u001b[0m\u001b[0;34m:\u001b[0m\u001b[0;34m\u001b[0m\u001b[0m\n\u001b[1;32m   2562\u001b[0m             \u001b[0;32mif\u001b[0m \u001b[0mlen\u001b[0m\u001b[0;34m(\u001b[0m\u001b[0mself\u001b[0m\u001b[0;34m)\u001b[0m \u001b[0;34m>\u001b[0m \u001b[0;36m0\u001b[0m \u001b[0;32mand\u001b[0m \u001b[0mself\u001b[0m\u001b[0;34m.\u001b[0m\u001b[0minferred_type\u001b[0m \u001b[0;32min\u001b[0m \u001b[0;34m[\u001b[0m\u001b[0;34m'integer'\u001b[0m\u001b[0;34m,\u001b[0m \u001b[0;34m'boolean'\u001b[0m\u001b[0;34m]\u001b[0m\u001b[0;34m:\u001b[0m\u001b[0;34m\u001b[0m\u001b[0m\n",
      "\u001b[0;32mpandas/_libs/index.pyx\u001b[0m in \u001b[0;36mpandas._libs.index.IndexEngine.get_value\u001b[0;34m()\u001b[0m\n",
      "\u001b[0;32mpandas/_libs/index.pyx\u001b[0m in \u001b[0;36mpandas._libs.index.IndexEngine.get_value\u001b[0;34m()\u001b[0m\n",
      "\u001b[0;32mpandas/_libs/index_class_helper.pxi\u001b[0m in \u001b[0;36mpandas._libs.index.Int64Engine._check_type\u001b[0;34m()\u001b[0m\n",
      "\u001b[0;32mpandas/_libs/index_class_helper.pxi\u001b[0m in \u001b[0;36mpandas._libs.index.Int64Engine._check_type\u001b[0;34m()\u001b[0m\n",
      "\u001b[0;31mKeyError\u001b[0m: False"
     ]
    }
   ],
   "source": [
    "#selfloops_df = edges_df.map(lambda x: , edges_df['n_n'])\n",
    "#edges_df['n_n'] = map(lambda x: tuple(sorted(x)), edges_df[['n_n']].values.tolist())\n",
    "#print edges_df.head()\n",
    "print edges_df['n_n'].loc[lambda x: len(set(x)) == 1]\n",
    "\n",
    "\n",
    "#print edges_df[~(edges_df.n_n.size == 1)]\n"
   ]
  },
  {
   "cell_type": "code",
   "execution_count": null,
   "metadata": {
    "collapsed": true
   },
   "outputs": [],
   "source": [
    "# TODO: clean parallels and duplicate geometry \n",
    "edges_df = edges_df.drop_duplicates(subset='geometry', keep='first', inplace=False)\n",
    "\n",
    "# TODO: clean selfloops \n",
    "selfloops_df = edges_df.query('n_n[0] = n_n[1]')\n",
    "\n",
    "# TODO: roundabouts & short \n",
    "roundabouts_df = edges_df.query('formofway = \"Roundabout\"')\n",
    "# connected comp -> groups (degree 0), nodes -> midpoint, conlines (degree 1) - endpoint to change\n"
   ]
  },
  {
   "cell_type": "code",
   "execution_count": null,
   "metadata": {
    "collapsed": true
   },
   "outputs": [],
   "source": [
    "# clean dual car and parallel \n",
    "# find outer ring from unions \n"
   ]
  },
  {
   "cell_type": "code",
   "execution_count": null,
   "metadata": {
    "collapsed": true
   },
   "outputs": [],
   "source": [
    "# apply route hierarchy -> axial -> segment "
   ]
  }
 ],
 "metadata": {
  "kernelspec": {
   "display_name": "Python 2",
   "language": "python",
   "name": "python2"
  },
  "language_info": {
   "codemirror_mode": {
    "name": "ipython",
    "version": 2
   },
   "file_extension": ".py",
   "mimetype": "text/x-python",
   "name": "python",
   "nbconvert_exporter": "python",
   "pygments_lexer": "ipython2",
   "version": "2.7.13"
  }
 },
 "nbformat": 4,
 "nbformat_minor": 2
}
