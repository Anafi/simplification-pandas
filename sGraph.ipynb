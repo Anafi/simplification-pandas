{
 "cells": [
  {
   "cell_type": "code",
   "execution_count": 1,
   "metadata": {},
   "outputs": [],
   "source": [
    "import geopandas as gpd\n",
    "import pandas as pd\n",
    "import numpy as np\n",
    "from shapely.geometry import Point"
   ]
  },
  {
   "cell_type": "code",
   "execution_count": 15,
   "metadata": {},
   "outputs": [],
   "source": [
    "# Read shapefile\n",
    "# Set filepath \n",
    "fp = \"/Users/joe/Documents/Coding/Simplification/comp_model_cl_w_u.shp\"\n",
    "edges_df = gpd.read_file(fp,  encoding=\"utf-8\")\n",
    "# Plot shapefile\n",
    "#edges_df.plot()"
   ]
  },
  {
   "cell_type": "code",
   "execution_count": 16,
   "metadata": {},
   "outputs": [],
   "source": [
    "# add start and end point coordinates to data frame \n",
    "def getstartnode(row):\n",
    "    return row.coords[0]\n",
    "\n",
    "def getendnode(row):\n",
    "    return row.coords[-1]\n",
    "\n",
    "edges_df = edges_df.assign(startcoords = map(lambda x: getstartnode(x), edges_df['geometry'].values.tolist()), \n",
    "                           endcoords = map(lambda x: getendnode(x), edges_df['geometry'].values.tolist()))"
   ]
  },
  {
   "cell_type": "code",
   "execution_count": 25,
   "metadata": {},
   "outputs": [
    {
     "name": "stdout",
     "output_type": "stream",
     "text": [
      "(195732,)\n",
      "<type 'numpy.ndarray'>\n",
      "                                id\n",
      "coords                            \n",
      "(415623.0, 439681.0)             0\n",
      "(420759.0, 445060.0)             1\n",
      "(420745.253186, 445141.572253)   2\n",
      "(440861.06732, 425396.6059)      3\n",
      "(429961.973, 439686.461)         4\n"
     ]
    }
   ],
   "source": [
    "# get all unique coordinates\n",
    "coords_pds = pd.concat([edges_df.loc[:, 'startcoords'], edges_df.loc[:, 'endcoords']])\n",
    "coords_pds = pd.unique(coords_pds)\n",
    "# TODO: df = pd.DataFrame(data, index = ['Cochice', 'Pima', 'Santa Cruz', 'Maricopa', 'Yuma'])\n",
    "nodes_df = pd.DataFrame({'coords': coords_pds, 'id': range(0, len(coords_pds))})\n",
    "nodes_df.set_index(['coords'], inplace=True)\n",
    "# del coords_pds\n",
    "print nodes_df.head()"
   ]
  },
  {
   "cell_type": "code",
   "execution_count": 18,
   "metadata": {},
   "outputs": [],
   "source": [
    "edges_df = pd.merge(edges_df, nodes_df, left_on='startcoords', right_index=True, how='left', suffixes=('_raw', '_startnode'))\n",
    "edges_df = pd.merge(edges_df, nodes_df, left_on='endcoords', right_index=True, how='left')\n",
    "edges_df['sid'] = edges_df.index\n",
    "edges_df['stype'] = None\n",
    "edges_df['audit'] = None\n",
    "edges_df = edges_df.rename(columns={'id':'endnodeid', 'id_startnode':'startnodeid' })               "
   ]
  },
  {
   "cell_type": "code",
   "execution_count": 19,
   "metadata": {},
   "outputs": [
    {
     "name": "stdout",
     "output_type": "stream",
     "text": [
      "(98637, 18)\n",
      "(97866, 18)\n"
     ]
    }
   ],
   "source": [
    "# exclude points\n",
    "print edges_df.shape\n",
    "edges_df = edges_df[edges_df.geometry.length != 0]\n",
    "print edges_df.shape"
   ]
  },
  {
   "cell_type": "code",
   "execution_count": 26,
   "metadata": {},
   "outputs": [
    {
     "name": "stdout",
     "output_type": "stream",
     "text": [
      "(195732, 2)\n",
      "   n1     n2\n",
      "0   0  58338\n",
      "1   1  11144\n",
      "2   2      1\n",
      "3   3  42424\n",
      "4   4  37161\n"
     ]
    }
   ],
   "source": [
    "adjnodes_df = pd.DataFrame({'n1': pd.concat([edges_df['startnodeid'], edges_df['endnodeid']]), 'n2': pd.concat([edges_df['endnodeid'], edges_df['startnodeid']])})\n",
    "print adjnodes_df.shape\n",
    "print adjnodes_df.head()"
   ]
  },
  {
   "cell_type": "code",
   "execution_count": 27,
   "metadata": {},
   "outputs": [
    {
     "name": "stdout",
     "output_type": "stream",
     "text": [
      "(195732, 2)\n",
      "           n    sid\n",
      "98632  63132  98632\n",
      "98633  11275  98633\n",
      "98634  41600  98634\n",
      "98635  44007  98635\n",
      "98636  20342  98636\n"
     ]
    }
   ],
   "source": [
    "adjedges_df = pd.DataFrame({'n': pd.concat([edges_df['startnodeid'], edges_df['endnodeid']]), 'sid': pd.concat([edges_df['sid'], edges_df['sid']])})\n",
    "print adjedges_df.shape\n",
    "print adjedges_df.tail()"
   ]
  },
  {
   "cell_type": "code",
   "execution_count": 28,
   "metadata": {},
   "outputs": [
    {
     "name": "stdout",
     "output_type": "stream",
     "text": [
      "(75820, 1)\n",
      "                              n2\n",
      "n1                              \n",
      "0           [58338, 62077, 2526]\n",
      "1       [11144, 33849, 2, 11144]\n",
      "2               [1, 8997, 11165]\n",
      "3            [42424, 42422, 885]\n",
      "4   [37161, 52627, 52624, 72865]\n",
      "(75820, 1)\n",
      "                    sid\n",
      "n                      \n",
      "0     [0, 88173, 35412]\n",
      "1  [1, 49507, 2, 13009]\n",
      "2     [2, 10409, 13031]\n",
      "3       [3, 88206, 917]\n",
      "4    [4, 13, 18, 77969]\n"
     ]
    }
   ],
   "source": [
    "adjnodes_df = adjnodes_df.groupby('n1')['n2'].apply(list).to_frame()\n",
    "print adjnodes_df.shape\n",
    "# print nodes_df.shape\n",
    "print adjnodes_df.head()\n",
    "\n",
    "adjedges_df = adjedges_df.groupby('n')['sid'].apply(list).to_frame()\n",
    "print adjedges_df.shape\n",
    "# print nodes_df.shape\n",
    "print adjedges_df.head()\n",
    "# nodenode_df not needed from edges based on index "
   ]
  },
  {
   "cell_type": "code",
   "execution_count": 29,
   "metadata": {},
   "outputs": [
    {
     "name": "stdout",
     "output_type": "stream",
     "text": [
      "                                id                   sid  \\\n",
      "coords                                                     \n",
      "(415623.0, 439681.0)             0     [0, 88173, 35412]   \n",
      "(420759.0, 445060.0)             1  [1, 49507, 2, 13009]   \n",
      "(420745.253186, 445141.572253)   2     [2, 10409, 13031]   \n",
      "(440861.06732, 425396.6059)      3       [3, 88206, 917]   \n",
      "(429961.973, 439686.461)         4    [4, 13, 18, 77969]   \n",
      "\n",
      "                                                          n2  \n",
      "coords                                                        \n",
      "(415623.0, 439681.0)                    [58338, 62077, 2526]  \n",
      "(420759.0, 445060.0)                [11144, 33849, 2, 11144]  \n",
      "(420745.253186, 445141.572253)              [1, 8997, 11165]  \n",
      "(440861.06732, 425396.6059)              [42424, 42422, 885]  \n",
      "(429961.973, 439686.461)        [37161, 52627, 52624, 72865]  \n"
     ]
    }
   ],
   "source": [
    "# update nodes_df\n",
    "nodes_df = pd.merge(nodes_df, adjedges_df, right_index = True, left_on='id', how='left', suffixes=('_raw', '_join'))\n",
    "nodes_df = pd.merge(nodes_df, adjnodes_df, left_on='id', right_index=True, how='left', suffixes=('', '_join'))\n",
    "\n",
    "print nodes_df.head()"
   ]
  },
  {
   "cell_type": "code",
   "execution_count": 30,
   "metadata": {},
   "outputs": [
    {
     "name": "stdout",
     "output_type": "stream",
     "text": [
      "<class 'pandas.core.frame.DataFrame'>\n",
      "                                id                   sid  \\\n",
      "coords                                                     \n",
      "(415623.0, 439681.0)             0     [0, 88173, 35412]   \n",
      "(420759.0, 445060.0)             1  [1, 49507, 2, 13009]   \n",
      "(420745.253186, 445141.572253)   2     [2, 10409, 13031]   \n",
      "(440861.06732, 425396.6059)      3       [3, 88206, 917]   \n",
      "(429961.973, 439686.461)         4    [4, 13, 18, 77969]   \n",
      "\n",
      "                                                          n2  \n",
      "coords                                                        \n",
      "(415623.0, 439681.0)                    [58338, 62077, 2526]  \n",
      "(420759.0, 445060.0)                [11144, 33849, 2, 11144]  \n",
      "(420745.253186, 445141.572253)              [1, 8997, 11165]  \n",
      "(440861.06732, 425396.6059)              [42424, 42422, 885]  \n",
      "(429961.973, 439686.461)        [37161, 52627, 52624, 72865]  \n",
      "<class 'geopandas.geodataframe.GeoDataFrame'>\n"
     ]
    }
   ],
   "source": [
    "print type(nodes_df)\n",
    "\n",
    "# to geodataframe\n",
    "print nodes_df.head()\n",
    "nodes_df['geometry'] = map(lambda x: Point(x), nodes_df.index.values)\n",
    "nodes_df = nodes_df.reset_index(drop = True)\n",
    "nodes_gdf = gpd.GeoDataFrame(nodes_df)\n",
    "print type(nodes_gdf)\n",
    "del nodes_df"
   ]
  },
  {
   "cell_type": "code",
   "execution_count": 32,
   "metadata": {},
   "outputs": [
    {
     "name": "stdout",
     "output_type": "stream",
     "text": [
      "   id                   sid                            n2  \\\n",
      "0   0     [0, 88173, 35412]          [58338, 62077, 2526]   \n",
      "1   1  [1, 49507, 2, 13009]      [11144, 33849, 2, 11144]   \n",
      "2   2     [2, 10409, 13031]              [1, 8997, 11165]   \n",
      "3   3       [3, 88206, 917]           [42424, 42422, 885]   \n",
      "4   4    [4, 13, 18, 77969]  [37161, 52627, 52624, 72865]   \n",
      "\n",
      "                                     geometry  \n",
      "0                       POINT (415623 439681)  \n",
      "1                       POINT (420759 445060)  \n",
      "2  POINT (420745.253186412 445141.5722528308)  \n",
      "3            POINT (440861.06732 425396.6059)  \n",
      "4               POINT (429961.973 439686.461)  \n"
     ]
    }
   ],
   "source": [
    "print nodes_gdf.head()\n"
   ]
  },
  {
   "cell_type": "code",
   "execution_count": 224,
   "metadata": {},
   "outputs": [
    {
     "name": "stdout",
     "output_type": "stream",
     "text": [
      "0    1\n",
      "1    1\n",
      "2    1\n",
      "3    1\n",
      "4    2\n",
      "dtype: int64\n",
      "4      2\n",
      "41     2\n",
      "214    2\n",
      "288    2\n",
      "323    2\n",
      "dtype: int64\n"
     ]
    }
   ],
   "source": [
    "edges_df['n_n'] = map(lambda x: tuple(sorted(x)), edges_df[['startnodeid', 'endnodeid']].values.tolist())\n",
    "# group by n_n and length geom\n",
    "nodenode_df = edges_df.groupby('n_n')['sid'].apply(list).to_frame()\n",
    "nodenode_df = nodenode_df.reset_index()\n",
    "nodenode_df = nodenode_df.apply(lambda row: len(row.sid),axis=1)\n",
    "print nodenode_df.head()\n",
    "# TODO: return n_n - sid - count \n",
    "parallels =  nodenode_df[nodenode_df > 1]\n",
    "print parallels.head()"
   ]
  },
  {
   "cell_type": "code",
   "execution_count": null,
   "metadata": {},
   "outputs": [],
   "source": []
  },
  {
   "cell_type": "code",
   "execution_count": null,
   "metadata": {},
   "outputs": [],
   "source": [
    "# TODO: clean parallels and duplicate geometry \n",
    "\n",
    "\n",
    "# TODO: clean selfloops \n",
    "\n",
    "\n",
    "# TODO: roundabouts & short \n",
    "\n"
   ]
  }
 ],
 "metadata": {
  "kernelspec": {
   "display_name": "Python 2",
   "language": "python",
   "name": "python2"
  },
  "language_info": {
   "codemirror_mode": {
    "name": "ipython",
    "version": 2
   },
   "file_extension": ".py",
   "mimetype": "text/x-python",
   "name": "python",
   "nbconvert_exporter": "python",
   "pygments_lexer": "ipython2",
   "version": "2.7.14"
  }
 },
 "nbformat": 4,
 "nbformat_minor": 2
}
